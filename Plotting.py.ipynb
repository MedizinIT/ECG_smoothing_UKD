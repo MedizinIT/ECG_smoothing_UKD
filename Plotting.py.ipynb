{
 "cells": [
  {
   "cell_type": "code",
   "execution_count": null,
   "id": "fbe10cc0",
   "metadata": {},
   "outputs": [],
   "source": [
    "import matplotlib.pyplot as plt\n",
    "\n",
    "from scipy.signal import welch\n",
    "\n",
    "\n",
    "def plot_ecg_with_r_peaks(ecg_signal, bw_smoothed_signal, r_peaks, ecg_signal_id):\n",
    "    plt.figure(figsize=(10, 6))\n",
    "    plt.plot(ecg_signal, label='Original Signal')\n",
    "    plt.plot(bw_smoothed_signal, label='Filtered Signal')\n",
    "    plt.plot(r_peaks, bw_smoothed_signal[r_peaks], 'ro', label='R-Peaks')\n",
    "    plt.xlabel('Sample')\n",
    "    plt.ylabel('Amplitude')\n",
    "    plt.title(f'ECG Signal {ecg_signal_id} with R-Peaks')\n",
    "    plt.legend()\n",
    "    plt.tight_layout()\n",
    "    plt.show()\n",
    "\n",
    "def plot_power_spectral_density(ecg_signal, sampling_frequency):\n",
    "    f, psd = welch(ecg_signal, fs=sampling_frequency)\n",
    "    plt.figure(figsize=(8, 6))\n",
    "    plt.plot(f, psd)\n",
    "    plt.xlabel('Frequency (Hz)')\n",
    "    plt.ylabel('Power Spectral Density')\n",
    "    plt.title('Power Spectral Density of ECG Signal')\n",
    "    plt.grid(True)\n",
    "    plt.show()\n"
   ]
  }
 ],
 "metadata": {
  "kernelspec": {
   "display_name": "Python 3 (ipykernel)",
   "language": "python",
   "name": "python3"
  },
  "language_info": {
   "codemirror_mode": {
    "name": "ipython",
    "version": 3
   },
   "file_extension": ".py",
   "mimetype": "text/x-python",
   "name": "python",
   "nbconvert_exporter": "python",
   "pygments_lexer": "ipython3",
   "version": "3.11.3"
  }
 },
 "nbformat": 4,
 "nbformat_minor": 5
}
